{
 "cells": [
  {
   "cell_type": "code",
   "execution_count": 45,
   "metadata": {},
   "outputs": [],
   "source": [
    "from IPython.display import clear_output\n",
    "import torch\n",
    "import torch.nn as nn\n",
    "import torch.optim as optim\n",
    "from scipy.integrate import odeint\n",
    "from torchdiffeq import odeint as odeint_nn\n",
    "import numpy as np\n",
    "import matplotlib.pyplot as plt\n",
    "%matplotlib inline\n",
    "\n",
    "def dvdt(h, t, thetas): ### velocity of the falling baseball from newton\n",
    "    return thetas[0] + thetas[1] * h**2\n",
    "\n",
    "times = np.linspace(0, 3, 100)\n",
    "true_thetas = [10, -.2]\n",
    "\n",
    "out = odeint(dvdt, 0, times, (true_thetas,))\n",
    "h_train = out[:,0] + np.random.randn(out.size)/10.\n",
    "h_train = h_train[:,np.newaxis]\n",
    "\n",
    "# Function that will be used to approximate dvdt above\n",
    "class ODEFunc(nn.Module):\n",
    "\n",
    "    def __init__(self):\n",
    "        super(ODEFunc, self).__init__()\n",
    "\n",
    "        self.net = nn.Sequential(\n",
    "            nn.Linear(1, 50),\n",
    "            nn.Tanh(),\n",
    "            nn.Linear(50, 1),\n",
    "        )\n",
    "\n",
    "        for m in self.net.modules():\n",
    "            if isinstance(m, nn.Linear):\n",
    "                nn.init.normal_(m.weight, mean=0, std=0.1)\n",
    "                nn.init.constant_(m.bias, val=0)\n",
    "\n",
    "    def forward(self, t, y):\n",
    "        return self.net(y)\n",
    "\n",
    "# Number of time steps to integrate forward\n",
    "batch_time = 10\n",
    "# Number of batch samples to use in each gradient descent step\n",
    "batch_size = 10\n",
    "\n",
    "# This is how they implement minibatch in their NODE examples. I'm \n",
    "def get_batch(y, t):\n",
    "    true_y = torch.Tensor(y)\n",
    "    t = torch.Tensor(t)\n",
    "    \n",
    "    s = torch.from_numpy(np.random.choice(np.arange(len(t) - batch_time, dtype=np.int64), batch_size, replace=False))\n",
    "    batch_y0 = true_y[s]  # (M, D)\n",
    "    batch_t = t[:batch_time]  # (T)\n",
    "    batch_y = torch.stack([true_y[s + i] for i in range(batch_time)], dim=0)  # (T, M, D)\n",
    "    return batch_y0, batch_t, batch_y\n",
    "\n"
   ]
  },
  {
   "cell_type": "code",
   "execution_count": 46,
   "metadata": {},
   "outputs": [
    {
     "data": {
      "image/png": "[encoded data removed]",
      "text/plain": [
       "<Figure size 432x288 with 1 Axes>"
      ]
     },
     "metadata": {
      "needs_background": "light"
     },
     "output_type": "display_data"
    },
    {
     "name": "stdout",
     "output_type": "stream",
     "text": [
      "Iter 1900 | Total Loss 0.113424\n"
     ]
    }
   ],
   "source": [
    "# Use euler to match Aidan's example. You can use a more sophisticated method for a more complex problem.\n",
    "method = 'euler'\n",
    "model = ODEFunc()\n",
    "\n",
    "optimizer = optim.RMSprop(model.parameters(), lr=1e-3)\n",
    "\n",
    "for itr in range(2000):\n",
    "    \n",
    "    optimizer.zero_grad()\n",
    "    \n",
    "    # Get initial state, time steps, true y values at each timestep.\n",
    "    batch_y0, batch_t, batch_y = get_batch(h_train, times)\n",
    "\n",
    "    # Use NODE to integrate forward\n",
    "    pred_y = odeint_nn(model, batch_y0, batch_t)\n",
    "    loss = torch.mean(torch.abs(pred_y - batch_y))\n",
    "    loss.backward()\n",
    "    optimizer.step()\n",
    "\n",
    "    if itr % 100 == 0:\n",
    "        clear_output(wait=True)\n",
    "        with torch.no_grad():\n",
    "            \n",
    "            pred_y = odeint_nn(model, torch.Tensor([0]), torch.Tensor(times), method=method)\n",
    "            loss = torch.mean(torch.abs(pred_y - torch.Tensor(h_train)))\n",
    "            plt.plot(times, h_train, '.r', label='Observations')\n",
    "            plt.plot(times, pred_y, '.b', label='NODE Model')\n",
    "            plt.xlabel('Time (s)')\n",
    "            plt.ylabel('Velocity (m/s)')\n",
    "            plt.legend()\n",
    "            plt.show()\n",
    "            print('Iter {:04d} | Total Loss {:.6f}'.format(itr, loss.item()))"
   ]
  },
  {
   "cell_type": "code",
   "execution_count": null,
   "metadata": {},
   "outputs": [],
   "source": []
  }
 ],
 "metadata": {
  "kernelspec": {
   "display_name": "Python 3",
   "language": "python",
   "name": "python3"
  },
  "language_info": {
   "codemirror_mode": {
    "name": "ipython",
    "version": 3
   },
   "file_extension": ".py",
   "mimetype": "text/x-python",
   "name": "python",
   "nbconvert_exporter": "python",
   "pygments_lexer": "ipython3",
   "version": "3.7.3"
  }
 },
 "nbformat": 4,
 "nbformat_minor": 2
}
